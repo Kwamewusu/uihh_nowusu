{
 "cells": [
  {
   "cell_type": "code",
   "execution_count": null,
   "metadata": {},
   "outputs": [],
   "source": [
    "#######################################################################\n",
    "# This script was written by Nana Owusu, it is meant to preprocess    #\n",
    "# metabolomic information from CSV files and using the mean absolute  #\n",
    "# deviation of each treatment group, remove outliers.                 #\n",
    "#######################################################################\n",
    "# Modules for text interpretation and math\n",
    "import os, sys, re, fnmatch\n",
    "import numpy as np\n",
    "# Modules for plotting and reading csv\n",
    "# import matplotlib.pyplot as plt\n",
    "# from matplotlib.figure import Figure\n",
    "# import csv\n",
    "import pandas as pd\n",
    "# %matplotlib inline\n",
    "# from ipywidgets import interactive\n",
    "# Module for GUI\n",
    "# import tkinter as tk\n",
    "# from tkinter import filedialog\n",
    "# Module for saving plots as PDF\n",
    "# from matplotlib.backends.backend_pdf import PdfPages"
   ]
  },
  {
   "cell_type": "markdown",
   "metadata": {},
   "source": [
    "## Load csv files with pandas"
   ]
  },
  {
   "cell_type": "code",
   "execution_count": null,
   "metadata": {},
   "outputs": [],
   "source": [
    "dataFile = pd.read_csv(\"/Users/nowusu/uiHackyHour/uihh_nowusu/20190723_chronicrotenoneisradipine_driftnorm.csv\")"
   ]
  },
  {
   "cell_type": "markdown",
   "metadata": {},
   "source": [
    "###     Group metabolite columns by drug treatment"
   ]
  },
  {
   "cell_type": "code",
   "execution_count": null,
   "metadata": {},
   "outputs": [],
   "source": [
    "## variable that contains the names of each metabolite measured\n",
    "# The syntax here is known as a \"list comprehension\"\n",
    "columns = [col for col in dataFile.columns if col not in [\"Condition\", \"sample\"]]\n",
    "\n",
    "# gives a Pandas Series of the 21 treatment drugs\n",
    "groups = dataFile['Condition']"
   ]
  },
  {
   "cell_type": "markdown",
   "metadata": {},
   "source": [
    "### Get metabolite values sorted into a multi-index format"
   ]
  },
  {
   "cell_type": "code",
   "execution_count": null,
   "metadata": {},
   "outputs": [],
   "source": [
    "# Routine for numbering each individual sample\n",
    "# treated with a particular drug. The final\n",
    "# output is a list of tuples (a python data type defined by ())\n",
    "drug_enumerate = [(groups[0],0)]\n",
    "count = 0\n",
    "oldDrug = groups[0]\n",
    "for i in range(1,len(groups)):\n",
    "    if oldDrug == groups[i]:\n",
    "        count += 1\n",
    "    else :\n",
    "        count = 0\n",
    "    drug_enumerate.append((groups[i],count))\n",
    "    oldDrug = groups[i]\n",
    "\n",
    "\n",
    "drug_multiIdx = pd.MultiIndex.from_tuples(drug_enumerate)\n",
    "\n",
    "# the multi-index Pandas object will be added to this dataframe object\n",
    "# for allow for better group analyses using pandas tools for stats.\n",
    "metabolites_mi = pd.DataFrame(dataFile[columns])\n",
    "metabolites_mi.set_axis(labels=drug_multiIdx, axis='index', inplace=True)"
   ]
  },
  {
   "cell_type": "code",
   "execution_count": null,
   "metadata": {
    "scrolled": false
   },
   "outputs": [],
   "source": [
    "metabolites_mi"
   ]
  },
  {
   "cell_type": "markdown",
   "metadata": {},
   "source": [
    "## Functions for calculating group statistics"
   ]
  },
  {
   "cell_type": "code",
   "execution_count": null,
   "metadata": {},
   "outputs": [],
   "source": [
    "def getConditions(condGroups):\n",
    "    ''' Routine for counting how many constituents are in a sequence\n",
    "    after the first occurrence and saves the constituent as well\n",
    "    as the count '''\n",
    "    \n",
    "    drugs = {}\n",
    "    for treatment in condGroups:\n",
    "        if treatment not in drugs:\n",
    "            drugs[treatment] = 0\n",
    "        drugs[treatment] += 1\n",
    "    \n",
    "    return drugs\n",
    "\n",
    "def stdErr(group,metabSet):\n",
    "    # calculate standard deviation for\n",
    "    # each group    \n",
    "    metabStdErr = pd.concat([pd.DataFrame\n",
    "                    (metabSet.loc[treatment,columns].std(axis='index')).T \n",
    "                             for treatment in group], ignore_index=True)\n",
    "    \n",
    "    metabStdErr.set_axis(axis='index', labels=group, inplace=True)\n",
    "    metabStdErr.columns.names = ['Standard Deviation']\n",
    "    return metabStdErr\n",
    "    \n",
    "\n",
    "def meanStdErr(group,metabSet):\n",
    "    # calculate mean standard error \n",
    "    # of each group    \n",
    "    metabMeanStdErr = pd.concat([pd.DataFrame\n",
    "                    (metabSet.loc[treatment,columns].sem(axis='index')).T \n",
    "                             for treatment in group], ignore_index=True)\n",
    "    \n",
    "    metabMeanStdErr.set_axis(axis='index', labels=group, inplace=True)\n",
    "    metabMeanStdErr.columns.names = ['Mean Std. Error']\n",
    "    \n",
    "    return metabMeanStdErr\n",
    "\n",
    "def coefOfVar(group,metabStdErr,metabMean):\n",
    "    # calculate coefficient of variation \n",
    "    # of each group    \n",
    "    metabCoefOfVar = metabStdErr.truediv(other=metabMean,axis='index')\n",
    "    \n",
    "    metabCoefOfVar.columns.names = ['Coeff. of Variation']\n",
    "    \n",
    "    return metabCoefOfVar\n",
    "\n",
    "def mean(group,metabSet):\n",
    "    # calculate mean of each group    \n",
    "    metabMean = pd.concat([pd.DataFrame\n",
    "                    (metabSet.loc[treatment,columns].mean(axis='index')).T \n",
    "                             for treatment in group], ignore_index=True)\n",
    "    \n",
    "    metabMean.set_axis(axis='index', labels=group, inplace=True)\n",
    "    metabMean.columns.names = ['Mean Std. Deviation']\n",
    "    \n",
    "    return metabMean\n",
    "\n",
    "def grubbs(group,metabSet,metabMean,metabStdErr):\n",
    "    # perform Grubb's analysis\n",
    "\n",
    "    meanAbsDev = pd.DataFrame([])\n",
    "    for treatment in group:\n",
    "            operand = metabSet.loc[treatment,columns].sub \\\n",
    "                        (metabMean.loc[treatment,columns])\n",
    "            operand = operand.abs()\n",
    "            meanAbsDev = meanAbsDev.append(operand.div(metabStdErr.loc[treatment,columns]))\n",
    "    \n",
    "    meanAbsDev.set_axis(labels=drug_multiIdx,axis='index',inplace=True)\n",
    "    meanAbsDev.columns.names = ['Mean Abs. Deviation']\n",
    "    \n",
    "    return meanAbsDev"
   ]
  },
  {
   "cell_type": "markdown",
   "metadata": {},
   "source": [
    "## Calculate standard deviations"
   ]
  },
  {
   "cell_type": "code",
   "execution_count": null,
   "metadata": {},
   "outputs": [],
   "source": [
    "conditions = getConditions(groups)\n",
    "std = stdErr(conditions,metabolites_mi)\n",
    "std"
   ]
  },
  {
   "cell_type": "markdown",
   "metadata": {},
   "source": [
    "## Calculate Averages"
   ]
  },
  {
   "cell_type": "code",
   "execution_count": null,
   "metadata": {},
   "outputs": [],
   "source": [
    "avg = mean(conditions,metabolites_mi)\n",
    "avg"
   ]
  },
  {
   "cell_type": "markdown",
   "metadata": {},
   "source": [
    "## Calculate Coefficient of Variation"
   ]
  },
  {
   "cell_type": "code",
   "execution_count": null,
   "metadata": {},
   "outputs": [],
   "source": [
    "cv = coefOfVar(conditions,std,avg)\n",
    "cv"
   ]
  },
  {
   "cell_type": "markdown",
   "metadata": {},
   "source": [
    "## Perform Grubb's Analysis"
   ]
  },
  {
   "cell_type": "code",
   "execution_count": null,
   "metadata": {
    "scrolled": true
   },
   "outputs": [],
   "source": [
    "madVals = grubbs(conditions,metabolites_mi,avg,std)\n",
    "madVals"
   ]
  },
  {
   "cell_type": "markdown",
   "metadata": {
    "scrolled": true
   },
   "source": [
    "## Function for determining outliers"
   ]
  },
  {
   "cell_type": "code",
   "execution_count": null,
   "metadata": {},
   "outputs": [],
   "source": [
    "def outliers(grubbsData,initVals,thresh):\n",
    "    \n",
    "    # If the condition above is true, replace the value with NaN\n",
    "    testDF = grubbsData.gt(thresh)\n",
    "    valueCheck = grubbsData.mask(cond=testDF,other=np.nan)\n",
    "    \n",
    "    # if condition above is false, replace with previous value\n",
    "    valueCheck = valueCheck.where(cond=testDF,other=initVals)\n",
    "    \n",
    "    return valueCheck"
   ]
  },
  {
   "cell_type": "code",
   "execution_count": null,
   "metadata": {},
   "outputs": [],
   "source": [
    "whichVals = outliers(madVals,metabolites_mi,1.15)\n",
    "whichVals"
   ]
  },
  {
   "cell_type": "markdown",
   "metadata": {},
   "source": [
    "## Function for normalization"
   ]
  },
  {
   "cell_type": "code",
   "execution_count": null,
   "metadata": {},
   "outputs": [],
   "source": [
    "def normalize(group,outly,meanVals):\n",
    "    # Perform normalization\n",
    "    nrmlz = pd.concat([pd.DataFrame\n",
    "                    (outly.loc[treatment,columns].div(meanVals.loc[treatment]))\n",
    "                     for treatment in group], ignore_index=True)\n",
    "    \n",
    "    nrmlz.set_axis(axis='index', labels=drug_multiIdx, inplace=True)\n",
    "    nrmlz.columns.names = ['Normalization']\n",
    "    \n",
    "    return nrmlz"
   ]
  },
  {
   "cell_type": "code",
   "execution_count": null,
   "metadata": {},
   "outputs": [],
   "source": [
    "meanOutly = mean(conditions,whichVals)\n",
    "normal = normalize(conditions,whichVals,meanOutly)"
   ]
  },
  {
   "cell_type": "markdown",
   "metadata": {},
   "source": [
    "## Function for exclusion"
   ]
  },
  {
   "cell_type": "code",
   "execution_count": null,
   "metadata": {},
   "outputs": [],
   "source": [
    "def exclusion(grubbsData,normVals,thresh):\n",
    "    \n",
    "    # If the condition above is true, replace the value with NaN\n",
    "    testDF = grubbsData.lt(thresh)\n",
    "    exclude = grubbsData.mask(cond=testDF,other=normVals)\n",
    "    \n",
    "    # if condition above is false, replace with previous value\n",
    "    exclude = exclude.where(cond=testDF,other=np.nan)\n",
    "    \n",
    "    return exclude"
   ]
  },
  {
   "cell_type": "code",
   "execution_count": null,
   "metadata": {},
   "outputs": [],
   "source": [
    "remove = exclusion(madVals,normal,thresh)\n",
    "remove"
   ]
  }
 ],
 "metadata": {
  "kernelspec": {
   "display_name": "Python 3",
   "language": "python",
   "name": "python3"
  },
  "language_info": {
   "codemirror_mode": {
    "name": "ipython",
    "version": 3
   },
   "file_extension": ".py",
   "mimetype": "text/x-python",
   "name": "python",
   "nbconvert_exporter": "python",
   "pygments_lexer": "ipython3",
   "version": "3.7.1"
  }
 },
 "nbformat": 4,
 "nbformat_minor": 2
}
